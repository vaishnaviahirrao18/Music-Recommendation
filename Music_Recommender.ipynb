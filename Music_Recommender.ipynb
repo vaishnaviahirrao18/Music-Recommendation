{
 "cells": [
  {
   "cell_type": "code",
   "execution_count": 3,
   "id": "55880a06-5d09-444e-abe3-ff117d2a1607",
   "metadata": {},
   "outputs": [],
   "source": [
    "import pandas as pd\n",
    "import numpy as np"
   ]
  },
  {
   "cell_type": "code",
   "execution_count": null,
   "id": "e13e32e6-8bba-4f14-97e5-324ab177b7e7",
   "metadata": {},
   "outputs": [],
   "source": [
    "df=pd.read_csv(\"spotify_millsongdata.csv\")\n",
    "df.head()"
   ]
  },
  {
   "cell_type": "code",
   "execution_count": 10,
   "id": "d335be44-67e3-4e1f-8e92-d8408d300066",
   "metadata": {},
   "outputs": [],
   "source": [
    "df=df.sample(5000).drop('link',axis=1).reset_index(drop=True)"
   ]
  },
  {
   "cell_type": "code",
   "execution_count": 11,
   "id": "9b954b30-0a34-4b14-b952-2fea3b8371c9",
   "metadata": {},
   "outputs": [
    {
     "data": {
      "text/html": [
       "<div>\n",
       "<style scoped>\n",
       "    .dataframe tbody tr th:only-of-type {\n",
       "        vertical-align: middle;\n",
       "    }\n",
       "\n",
       "    .dataframe tbody tr th {\n",
       "        vertical-align: top;\n",
       "    }\n",
       "\n",
       "    .dataframe thead th {\n",
       "        text-align: right;\n",
       "    }\n",
       "</style>\n",
       "<table border=\"1\" class=\"dataframe\">\n",
       "  <thead>\n",
       "    <tr style=\"text-align: right;\">\n",
       "      <th></th>\n",
       "      <th>artist</th>\n",
       "      <th>song</th>\n",
       "      <th>text</th>\n",
       "    </tr>\n",
       "  </thead>\n",
       "  <tbody>\n",
       "    <tr>\n",
       "      <th>0</th>\n",
       "      <td>Alabama</td>\n",
       "      <td>Hangin' Round The Mistletoe</td>\n",
       "      <td>Snowy days and frosty night, everything looks ...</td>\n",
       "    </tr>\n",
       "    <tr>\n",
       "      <th>1</th>\n",
       "      <td>O.A.R.</td>\n",
       "      <td>Get Away</td>\n",
       "      <td>Is it me or does it seem  \\r\\nThat life just c...</td>\n",
       "    </tr>\n",
       "    <tr>\n",
       "      <th>2</th>\n",
       "      <td>America</td>\n",
       "      <td>Garden Of Peace</td>\n",
       "      <td>I look inside at the scarlet room  \\r\\nPlaces ...</td>\n",
       "    </tr>\n",
       "    <tr>\n",
       "      <th>3</th>\n",
       "      <td>Barbra Streisand</td>\n",
       "      <td>For Pete's Sake</td>\n",
       "      <td>People are born to love and be happy  \\r\\nLivi...</td>\n",
       "    </tr>\n",
       "    <tr>\n",
       "      <th>4</th>\n",
       "      <td>Miley Cyrus</td>\n",
       "      <td>FU</td>\n",
       "      <td>Oh you broke my heart  \\r\\nI told you I was we...</td>\n",
       "    </tr>\n",
       "    <tr>\n",
       "      <th>5</th>\n",
       "      <td>Dan Fogelberg</td>\n",
       "      <td>Stolen Moments</td>\n",
       "      <td>Every time we speak, our words betray intentio...</td>\n",
       "    </tr>\n",
       "    <tr>\n",
       "      <th>6</th>\n",
       "      <td>Phish</td>\n",
       "      <td>Gumbo</td>\n",
       "      <td>There's a mouse starin' out of the window  \\r\\...</td>\n",
       "    </tr>\n",
       "    <tr>\n",
       "      <th>7</th>\n",
       "      <td>Morrissey</td>\n",
       "      <td>At Last I Am Born</td>\n",
       "      <td>At last I am born  \\r\\nHistorians note  \\r\\nI ...</td>\n",
       "    </tr>\n",
       "    <tr>\n",
       "      <th>8</th>\n",
       "      <td>James Taylor</td>\n",
       "      <td>Another Day</td>\n",
       "      <td>Wake up Suzy, put your shoes on,  \\r\\nWalk wit...</td>\n",
       "    </tr>\n",
       "    <tr>\n",
       "      <th>9</th>\n",
       "      <td>John Mellencamp</td>\n",
       "      <td>Where The World Began</td>\n",
       "      <td>I'm tired of being grateful for a chance to ta...</td>\n",
       "    </tr>\n",
       "  </tbody>\n",
       "</table>\n",
       "</div>"
      ],
      "text/plain": [
       "             artist                         song  \\\n",
       "0           Alabama  Hangin' Round The Mistletoe   \n",
       "1            O.A.R.                     Get Away   \n",
       "2           America              Garden Of Peace   \n",
       "3  Barbra Streisand              For Pete's Sake   \n",
       "4       Miley Cyrus                           FU   \n",
       "5     Dan Fogelberg               Stolen Moments   \n",
       "6             Phish                        Gumbo   \n",
       "7         Morrissey            At Last I Am Born   \n",
       "8      James Taylor                  Another Day   \n",
       "9   John Mellencamp        Where The World Began   \n",
       "\n",
       "                                                text  \n",
       "0  Snowy days and frosty night, everything looks ...  \n",
       "1  Is it me or does it seem  \\r\\nThat life just c...  \n",
       "2  I look inside at the scarlet room  \\r\\nPlaces ...  \n",
       "3  People are born to love and be happy  \\r\\nLivi...  \n",
       "4  Oh you broke my heart  \\r\\nI told you I was we...  \n",
       "5  Every time we speak, our words betray intentio...  \n",
       "6  There's a mouse starin' out of the window  \\r\\...  \n",
       "7  At last I am born  \\r\\nHistorians note  \\r\\nI ...  \n",
       "8  Wake up Suzy, put your shoes on,  \\r\\nWalk wit...  \n",
       "9  I'm tired of being grateful for a chance to ta...  "
      ]
     },
     "execution_count": 11,
     "metadata": {},
     "output_type": "execute_result"
    }
   ],
   "source": [
    "df.head(10)"
   ]
  },
  {
   "cell_type": "code",
   "execution_count": 12,
   "id": "05541178-7cb8-44a2-a1e0-f99ac2d0815b",
   "metadata": {},
   "outputs": [
    {
     "data": {
      "text/plain": [
       "\"Snowy days and frosty night, everything looks cold and white  \\r\\nHangin' 'round the mistletoe, hangin' 'round the mistletoe  \\r\\n  \\r\\nChristmas day will soon be here, and everybody's full of cheer  \\r\\nHangin' 'round the mistletoe, waitin' for you dear  \\r\\n  \\r\\nWell, I've waited all year long and nore the year is almost gone  \\r\\nHangin' 'round the mistletoe, hangin' 'round the mistletoe  \\r\\n  \\r\\nBut if that's what I've gotta do just to get a kiss from you  \\r\\nHangin' 'round the mistletoe, waitin' for you dear  \\r\\n  \\r\\nChristmas is a special time to give and to receive  \\r\\nFor every little kiss you give me I will give you three  \\r\\n  \\r\\nYou ain't gonna miss one kiss, that's one thing you'll never miss  \\r\\nI'm hangin' 'round the mistletoe waitin' for you dear  \\r\\n  \\r\\nWell, I've had my eyes on you for a long, long time  \\r\\nSo, I'm asking Santa please, make that pretty girl mine  \\r\\n  \\r\\nWaited till I'm cold and blue just to get a kiss from you  \\r\\nI'm hangin' 'round the mistletoe, waitin' for you dear  \\r\\n  \\r\\nHangin' 'round the mistletoe, waitin' for you dear\\r\\n\\r\\n\""
      ]
     },
     "execution_count": 12,
     "metadata": {},
     "output_type": "execute_result"
    }
   ],
   "source": [
    "df['text'][0]"
   ]
  },
  {
   "cell_type": "code",
   "execution_count": null,
   "id": "ebf2778b-6985-4788-a45e-4cc11c98e737",
   "metadata": {},
   "outputs": [],
   "source": []
  },
  {
   "cell_type": "markdown",
   "id": "37e55f40-2a1b-438d-bc96-0e7438127a6c",
   "metadata": {},
   "source": [
    "Text cleaning"
   ]
  },
  {
   "cell_type": "code",
   "execution_count": 13,
   "id": "0d9c21d1-4743-4bbe-af9b-f0ccac3e98c8",
   "metadata": {},
   "outputs": [],
   "source": [
    "df['text']=df['text'].str.lower().replace(r'^\\w\\s', ' ').replace(r'\\n',' ',regex=True)"
   ]
  },
  {
   "cell_type": "code",
   "execution_count": 14,
   "id": "fbb1b3c0-7a43-413a-b456-6e4067c6eb08",
   "metadata": {},
   "outputs": [
    {
     "data": {
      "text/html": [
       "<div>\n",
       "<style scoped>\n",
       "    .dataframe tbody tr th:only-of-type {\n",
       "        vertical-align: middle;\n",
       "    }\n",
       "\n",
       "    .dataframe tbody tr th {\n",
       "        vertical-align: top;\n",
       "    }\n",
       "\n",
       "    .dataframe thead th {\n",
       "        text-align: right;\n",
       "    }\n",
       "</style>\n",
       "<table border=\"1\" class=\"dataframe\">\n",
       "  <thead>\n",
       "    <tr style=\"text-align: right;\">\n",
       "      <th></th>\n",
       "      <th>artist</th>\n",
       "      <th>song</th>\n",
       "      <th>text</th>\n",
       "    </tr>\n",
       "  </thead>\n",
       "  <tbody>\n",
       "    <tr>\n",
       "      <th>4995</th>\n",
       "      <td>Ufo</td>\n",
       "      <td>At War With The World</td>\n",
       "      <td>hit me like a hammer to my head  \\r we thrashe...</td>\n",
       "    </tr>\n",
       "    <tr>\n",
       "      <th>4996</th>\n",
       "      <td>ABBA</td>\n",
       "      <td>Ahe's My Kind Of Girl</td>\n",
       "      <td>look at her face, it's a wonderful face  \\r an...</td>\n",
       "    </tr>\n",
       "    <tr>\n",
       "      <th>4997</th>\n",
       "      <td>Steve Miller Band</td>\n",
       "      <td>Fanny Mae</td>\n",
       "      <td>i know, my baby told me so  \\r yes, i know, my...</td>\n",
       "    </tr>\n",
       "    <tr>\n",
       "      <th>4998</th>\n",
       "      <td>Rascal Flatts</td>\n",
       "      <td>Falling Upside Down</td>\n",
       "      <td>there's no gravity up here  \\r it's kind of ha...</td>\n",
       "    </tr>\n",
       "    <tr>\n",
       "      <th>4999</th>\n",
       "      <td>Steve Miller Band</td>\n",
       "      <td>Behind The Barn</td>\n",
       "      <td>well, i went to see my woman  \\r way back down...</td>\n",
       "    </tr>\n",
       "  </tbody>\n",
       "</table>\n",
       "</div>"
      ],
      "text/plain": [
       "                 artist                   song  \\\n",
       "4995                Ufo  At War With The World   \n",
       "4996               ABBA  Ahe's My Kind Of Girl   \n",
       "4997  Steve Miller Band              Fanny Mae   \n",
       "4998      Rascal Flatts    Falling Upside Down   \n",
       "4999  Steve Miller Band        Behind The Barn   \n",
       "\n",
       "                                                   text  \n",
       "4995  hit me like a hammer to my head  \\r we thrashe...  \n",
       "4996  look at her face, it's a wonderful face  \\r an...  \n",
       "4997  i know, my baby told me so  \\r yes, i know, my...  \n",
       "4998  there's no gravity up here  \\r it's kind of ha...  \n",
       "4999  well, i went to see my woman  \\r way back down...  "
      ]
     },
     "execution_count": 14,
     "metadata": {},
     "output_type": "execute_result"
    }
   ],
   "source": [
    "df.tail(5)"
   ]
  },
  {
   "cell_type": "code",
   "execution_count": 15,
   "id": "064f138f-0b80-4672-9db8-101198d56506",
   "metadata": {},
   "outputs": [],
   "source": [
    "import nltk\n",
    "from nltk.stem.porter import PorterStemmer"
   ]
  },
  {
   "cell_type": "code",
   "execution_count": 16,
   "id": "505d3f2e-58ce-4574-aa77-90ea63448e32",
   "metadata": {},
   "outputs": [],
   "source": [
    "stemmer= PorterStemmer()"
   ]
  },
  {
   "cell_type": "code",
   "execution_count": 17,
   "id": "230fa520-7365-49c6-af17-ad4e2cd88a7f",
   "metadata": {},
   "outputs": [],
   "source": [
    "def token(txt):\n",
    "     token=nltk.word_tokenize(txt)\n",
    "     a =[stemmer.stem(w) for w in token]\n",
    "     return \" \".join(a)"
   ]
  },
  {
   "cell_type": "code",
   "execution_count": 18,
   "id": "00d0b7ae-085e-4cb2-9164-76eee192a51c",
   "metadata": {},
   "outputs": [
    {
     "data": {
      "text/plain": [
       "0       snowi day and frosti night , everyth look cold...\n",
       "1       is it me or doe it seem that life just carri o...\n",
       "2       i look insid at the scarlet room place to hide...\n",
       "3       peopl are born to love and be happi live a sun...\n",
       "4       oh you broke my heart i told you i wa weak for...\n",
       "                              ...                        \n",
       "4995    hit me like a hammer to my head we thrash in b...\n",
       "4996    look at her face , it 's a wonder face and it ...\n",
       "4997    i know , my babi told me so ye , i know , my b...\n",
       "4998    there 's no graviti up here it 's kind of hard...\n",
       "4999    well , i went to see my woman way back down on...\n",
       "Name: text, Length: 5000, dtype: object"
      ]
     },
     "execution_count": 18,
     "metadata": {},
     "output_type": "execute_result"
    }
   ],
   "source": [
    "df['text'].apply(lambda x: token(x))"
   ]
  },
  {
   "cell_type": "code",
   "execution_count": 19,
   "id": "650e4c0a-3645-43c7-b3b6-8846f4ccfbde",
   "metadata": {},
   "outputs": [],
   "source": [
    "from sklearn.feature_extraction.text import TfidfVectorizer\n",
    "from sklearn.metrics.pairwise import cosine_similarity"
   ]
  },
  {
   "cell_type": "code",
   "execution_count": 20,
   "id": "21083179-1d1d-4ba3-99b8-60e7fedb7085",
   "metadata": {},
   "outputs": [],
   "source": [
    "tfid=TfidfVectorizer(analyzer='word',stop_words='english')"
   ]
  },
  {
   "cell_type": "code",
   "execution_count": 21,
   "id": "482fcfa3-6582-4645-bab8-08da5380e52a",
   "metadata": {},
   "outputs": [],
   "source": [
    "matrix=tfid.fit_transform(df['text'])"
   ]
  },
  {
   "cell_type": "code",
   "execution_count": 36,
   "id": "2937728b-130f-46cc-b2ed-261850c954e7",
   "metadata": {},
   "outputs": [],
   "source": [
    "similerity=cosine_similarity(matrix)"
   ]
  },
  {
   "cell_type": "code",
   "execution_count": 37,
   "id": "c02933d5-57c3-45da-8a76-426c260f0dd8",
   "metadata": {},
   "outputs": [
    {
     "data": {
      "text/plain": [
       "array([1.        , 0.01791995, 0.0019112 , ..., 0.00662423, 0.00318141,\n",
       "       0.00408809])"
      ]
     },
     "execution_count": 37,
     "metadata": {},
     "output_type": "execute_result"
    }
   ],
   "source": [
    "similerity[0]"
   ]
  },
  {
   "cell_type": "code",
   "execution_count": 38,
   "id": "937eb7b5-feeb-4baf-a719-c4814d721cda",
   "metadata": {},
   "outputs": [
    {
     "data": {
      "text/html": [
       "<div>\n",
       "<style scoped>\n",
       "    .dataframe tbody tr th:only-of-type {\n",
       "        vertical-align: middle;\n",
       "    }\n",
       "\n",
       "    .dataframe tbody tr th {\n",
       "        vertical-align: top;\n",
       "    }\n",
       "\n",
       "    .dataframe thead th {\n",
       "        text-align: right;\n",
       "    }\n",
       "</style>\n",
       "<table border=\"1\" class=\"dataframe\">\n",
       "  <thead>\n",
       "    <tr style=\"text-align: right;\">\n",
       "      <th></th>\n",
       "      <th>artist</th>\n",
       "      <th>song</th>\n",
       "      <th>text</th>\n",
       "    </tr>\n",
       "  </thead>\n",
       "  <tbody>\n",
       "    <tr>\n",
       "      <th>4998</th>\n",
       "      <td>Rascal Flatts</td>\n",
       "      <td>Falling Upside Down</td>\n",
       "      <td>there's no gravity up here  \\r it's kind of ha...</td>\n",
       "    </tr>\n",
       "  </tbody>\n",
       "</table>\n",
       "</div>"
      ],
      "text/plain": [
       "             artist                 song  \\\n",
       "4998  Rascal Flatts  Falling Upside Down   \n",
       "\n",
       "                                                   text  \n",
       "4998  there's no gravity up here  \\r it's kind of ha...  "
      ]
     },
     "execution_count": 38,
     "metadata": {},
     "output_type": "execute_result"
    }
   ],
   "source": [
    "df[df['song']=='Falling Upside Down']"
   ]
  },
  {
   "cell_type": "markdown",
   "id": "bb931cf3-9c1b-426d-9667-458e956bb3d4",
   "metadata": {},
   "source": [
    "Recommender Function"
   ]
  },
  {
   "cell_type": "code",
   "execution_count": 48,
   "id": "f1fbc252-751f-47f2-9c6c-74da26947fd2",
   "metadata": {},
   "outputs": [],
   "source": [
    "def recommender(song_df):\n",
    "    idx=df[df['song']==song_df].index[0]\n",
    "    distances=sorted(list(enumerate(similerity[idx])),reverse=True, key=lambda x:x[1])\n",
    "    songs =[]\n",
    "    for m_id in distances[1:20]:\n",
    "        songs.append(df.iloc[m_id[0]].song)\n",
    "    return songs"
   ]
  },
  {
   "cell_type": "code",
   "execution_count": 49,
   "id": "6b2398cd-086b-449c-aef1-dc6e56304df7",
   "metadata": {},
   "outputs": [
    {
     "data": {
      "text/plain": [
       "['Kite Song',\n",
       " 'On The Wings Of Love',\n",
       " \"I've Got The World On A String\",\n",
       " 'Free As A Bird',\n",
       " 'I Guess I Like It Like That',\n",
       " 'Nothing Like The First Time',\n",
       " 'I Like To',\n",
       " 'I Like You',\n",
       " 'Eventually',\n",
       " 'Light Lift Me Up',\n",
       " 'The Upside',\n",
       " 'Only Girl In The World',\n",
       " 'Heart By Heart',\n",
       " \"Fallin'\",\n",
       " 'Greatest Show On Earth',\n",
       " 'Ancients',\n",
       " 'Nobody Sees Me Like You Do',\n",
       " 'Hymn For The Weekend',\n",
       " 'Sweet Young Thing Like You']"
      ]
     },
     "execution_count": 49,
     "metadata": {},
     "output_type": "execute_result"
    }
   ],
   "source": [
    "recommender('Falling Upside Down')"
   ]
  },
  {
   "cell_type": "code",
   "execution_count": 43,
   "id": "bca2f1e7-f5be-4dee-901c-e39f49bfbdca",
   "metadata": {},
   "outputs": [],
   "source": [
    "import pickle"
   ]
  },
  {
   "cell_type": "code",
   "execution_count": 44,
   "id": "f38869e2-4b52-47f1-bb52-7a80211c85d6",
   "metadata": {},
   "outputs": [],
   "source": [
    "pickle.dump(similerity,open(\"similarity,pkl\",\"wb\"))"
   ]
  },
  {
   "cell_type": "code",
   "execution_count": 45,
   "id": "888af578-c73d-4188-8ad7-678ebd00098b",
   "metadata": {},
   "outputs": [],
   "source": [
    "pickle.dump(df,open(\"df.pkl\",\"wb\"))"
   ]
  },
  {
   "cell_type": "code",
   "execution_count": null,
   "id": "24594bc7-4eb4-4f76-ba7b-3a8d03db8123",
   "metadata": {},
   "outputs": [],
   "source": []
  },
  {
   "cell_type": "code",
   "execution_count": null,
   "id": "33afba85-24b5-4c00-94ed-52375a6d2be4",
   "metadata": {},
   "outputs": [],
   "source": []
  }
 ],
 "metadata": {
  "kernelspec": {
   "display_name": "Python 3 (ipykernel)",
   "language": "python",
   "name": "python3"
  },
  "language_info": {
   "codemirror_mode": {
    "name": "ipython",
    "version": 3
   },
   "file_extension": ".py",
   "mimetype": "text/x-python",
   "name": "python",
   "nbconvert_exporter": "python",
   "pygments_lexer": "ipython3",
   "version": "3.11.4"
  }
 },
 "nbformat": 4,
 "nbformat_minor": 5
}
